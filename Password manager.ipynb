{
 "cells": [
  {
   "cell_type": "code",
   "execution_count": 18,
   "metadata": {},
   "outputs": [
    {
     "data": {
      "text/html": [
       "<style type=\"text/css\">\n",
       "table.dataframe td, table.dataframe th {\n",
       "    border: 1px  black solid !important;\n",
       "  color: black !important;\n",
       "}\n",
       "</style>\n"
      ],
      "text/plain": [
       "<IPython.core.display.HTML object>"
      ]
     },
     "metadata": {},
     "output_type": "display_data"
    }
   ],
   "source": [
    "%%HTML\n",
    "<style type=\"text/css\">\n",
    "table.dataframe td, table.dataframe th {\n",
    "    border: 1px  black solid !important;\n",
    "  color: black !important;\n",
    "}\n",
    "</style>"
   ]
  },
  {
   "cell_type": "code",
   "execution_count": 2,
   "metadata": {},
   "outputs": [],
   "source": [
    "import sqlite3\n",
    "import pandas as pd\n",
    "class Password_Manager:\n",
    "    def __init__(self, db_name, table_name):\n",
    "        self.db_name = db_name\n",
    "        self.table_name = table_name\n",
    "        connection = sqlite3.connect(db_name+'.db')\n",
    "        cursor = connection.cursor()\n",
    "        try:\n",
    "            cursor.execute('Create Table ' + table_name + ' (website Varchar(20) not null, id1 Varchar(20) not null, passw Varchar(20) not null, PRIMARY KEY (website, id1));')\n",
    "        except:\n",
    "            print(\"Accessing exception\")\n",
    "            cursor.execute('delete from '+ table_name)\n",
    "            cursor.execute('drop table '+ table_name)\n",
    "            cursor.execute('Create Table ' + table_name + ' (website Varchar(20) not null, id1 Varchar(20) not null, passw Varchar(20) not null, PRIMARY KEY (website, id1));')\n",
    "        connection.commit()\n",
    "        connection.close()\n",
    "        print(\"Database \"+db_name+\" having table \"+ table_name +\" Created!!\")\n",
    "    def add_data(self, website, id1, passw):\n",
    "        connection = sqlite3.connect(self.db_name+'.db')\n",
    "        cursor = connection.cursor()\n",
    "        cursor.execute('Insert into '+self.table_name+' (website, id1, passw) Values(\"'+website+'\",\"'+id1+'\",\"'+passw+'\")')\n",
    "        connection.commit()\n",
    "        connection.close()\n",
    "        Password_Manager.show_table(self)\n",
    "    def show_table(self):\n",
    "        connection = sqlite3.connect(self.db_name+'.db')\n",
    "        cursor = connection.cursor()\n",
    "        cursor.execute('Select * From '+self.table_name)\n",
    "        entire_table = cursor.fetchall()\n",
    "        l = []\n",
    "        for row in entire_table:\n",
    "            print(row[0],\"!\",row[1],\"!\",row[2],\"!\")\n",
    "            l.append(list(row))\n",
    "        print(l)\n",
    "        df = pd.DataFrame(l, columns = ['website', 'id1', 'passw'])\n",
    "        connection.close()\n",
    "        print(df)\n",
    "    def show_pass(self, website, id1):\n",
    "        connection = sqlite3.connect(self.db_name+'.db')\n",
    "        cursor = connection.cursor()\n",
    "        cursor.execute('Select passw From ' + self.table_name + ' where website =\"' + website + '\" and id1 = \"' +id1+ '\";')\n",
    "        p = cursor.fetchall()\n",
    "        print(p)\n",
    "        connection.close()\n",
    "    def modify_passw(self, website, id1, passw):\n",
    "        connection = sqlite3.connect(self.db_name+'.db')\n",
    "        cursor = connection.cursor()\n",
    "        cursor.execute('Update '+self.table_name+' set passw = \"'+passw+'\" where website = \"'+website+'\" and id1 = \"'+id1+'\";')\n",
    "        connection.commit()\n",
    "        connection.close()\n",
    "        Password_Manager.show_table(self)\n",
    "    def delete_pass(self, website):\n",
    "        connection = sqlite3.connect(self.db_name+'.db')\n",
    "        cursor = connection.cursor()\n",
    "        cursor.execute('Delete from ' + self.table_name + ' where website =\"' + website + '\";')\n",
    "        connection.commit()\n",
    "        connection.close()\n",
    "        Password_Manager.show_table(self)\n",
    "    def delete_all(self):\n",
    "        connection = sqlite3.connect(self.db_name+'.db')\n",
    "        cursor = connection.cursor()\n",
    "        cursor.execute('delete from '+ self.table_name)\n",
    "        cursor.execute('drop table '+ self.table_name)\n",
    "        connection.commit()\n",
    "        connection.close()\n",
    "        print(\"Table deletion successful\")"
   ]
  },
  {
   "cell_type": "code",
   "execution_count": 16,
   "metadata": {},
   "outputs": [
    {
     "name": "stdout",
     "output_type": "stream",
     "text": [
      "Accessing exception\n",
      "Database classdb having table classtable Created!!\n",
      "Wall time: 221 ms\n"
     ]
    }
   ],
   "source": [
    "%%time\n",
    "\n",
    "p1 = Password_Manager(\"classdb\",\"classtable\")"
   ]
  },
  {
   "cell_type": "code",
   "execution_count": 17,
   "metadata": {},
   "outputs": [
    {
     "ename": "NameError",
     "evalue": "name 'p1' is not defined",
     "output_type": "error",
     "traceback": [
      "\u001b[1;31m---------------------------------------------------------------------------\u001b[0m",
      "\u001b[1;31mNameError\u001b[0m                                 Traceback (most recent call last)",
      "\u001b[1;32m<timed eval>\u001b[0m in \u001b[0;36m<module>\u001b[1;34m\u001b[0m\n",
      "\u001b[1;31mNameError\u001b[0m: name 'p1' is not defined"
     ]
    }
   ],
   "source": [
    "%%time\n",
    "\n",
    "p1.add_data(\"61\",\"102\",\"3\")"
   ]
  },
  {
   "cell_type": "code",
   "execution_count": 12,
   "metadata": {},
   "outputs": [
    {
     "ename": "NameError",
     "evalue": "name 'p' is not defined",
     "output_type": "error",
     "traceback": [
      "\u001b[1;31m---------------------------------------------------------------------------\u001b[0m",
      "\u001b[1;31mNameError\u001b[0m                                 Traceback (most recent call last)",
      "\u001b[1;32m<ipython-input-12-e30391f80c69>\u001b[0m in \u001b[0;36m<module>\u001b[1;34m\u001b[0m\n\u001b[1;32m----> 1\u001b[1;33m \u001b[0mp\u001b[0m\u001b[1;33m.\u001b[0m\u001b[0mshow_table\u001b[0m\u001b[1;33m(\u001b[0m\u001b[1;33m)\u001b[0m\u001b[1;33m\u001b[0m\u001b[1;33m\u001b[0m\u001b[0m\n\u001b[0m",
      "\u001b[1;31mNameError\u001b[0m: name 'p' is not defined"
     ]
    }
   ],
   "source": [
    "p.show_table()\n"
   ]
  },
  {
   "cell_type": "code",
   "execution_count": 13,
   "metadata": {},
   "outputs": [
    {
     "ename": "NameError",
     "evalue": "name 'p' is not defined",
     "output_type": "error",
     "traceback": [
      "\u001b[1;31m---------------------------------------------------------------------------\u001b[0m",
      "\u001b[1;31mNameError\u001b[0m                                 Traceback (most recent call last)",
      "\u001b[1;32m<ipython-input-13-762d6c6a1913>\u001b[0m in \u001b[0;36m<module>\u001b[1;34m\u001b[0m\n\u001b[1;32m----> 1\u001b[1;33m \u001b[0mp\u001b[0m\u001b[1;33m.\u001b[0m\u001b[0mmodify_passw\u001b[0m\u001b[1;33m(\u001b[0m\u001b[1;34m\"6\"\u001b[0m\u001b[1;33m,\u001b[0m\u001b[1;34m\"9\"\u001b[0m\u001b[1;33m,\u001b[0m\u001b[1;34m\"2\"\u001b[0m\u001b[1;33m)\u001b[0m\u001b[1;33m\u001b[0m\u001b[1;33m\u001b[0m\u001b[0m\n\u001b[0m",
      "\u001b[1;31mNameError\u001b[0m: name 'p' is not defined"
     ]
    }
   ],
   "source": [
    "p.modify_passw(\"6\",\"9\",\"2\")"
   ]
  },
  {
   "cell_type": "code",
   "execution_count": 14,
   "metadata": {},
   "outputs": [
    {
     "ename": "NameError",
     "evalue": "name 'p' is not defined",
     "output_type": "error",
     "traceback": [
      "\u001b[1;31m---------------------------------------------------------------------------\u001b[0m",
      "\u001b[1;31mNameError\u001b[0m                                 Traceback (most recent call last)",
      "\u001b[1;32m<ipython-input-14-9dff35f4c813>\u001b[0m in \u001b[0;36m<module>\u001b[1;34m\u001b[0m\n\u001b[1;32m----> 1\u001b[1;33m \u001b[0mp\u001b[0m\u001b[1;33m.\u001b[0m\u001b[0mdelete_pass\u001b[0m\u001b[1;33m(\u001b[0m\u001b[1;34m\"\"\u001b[0m\u001b[1;33m)\u001b[0m\u001b[1;33m\u001b[0m\u001b[1;33m\u001b[0m\u001b[0m\n\u001b[0m",
      "\u001b[1;31mNameError\u001b[0m: name 'p' is not defined"
     ]
    }
   ],
   "source": [
    "p.delete_pass(\"\")"
   ]
  },
  {
   "cell_type": "code",
   "execution_count": 15,
   "metadata": {},
   "outputs": [],
   "source": [
    "import pandas as pd"
   ]
  },
  {
   "cell_type": "code",
   "execution_count": 25,
   "metadata": {},
   "outputs": [],
   "source": [
    "import os"
   ]
  },
  {
   "cell_type": "code",
   "execution_count": 27,
   "metadata": {},
   "outputs": [
    {
     "data": {
      "text/plain": [
       "['.anaconda',\n",
       " '.android',\n",
       " '.AndroidStudio3.4',\n",
       " '.conda',\n",
       " '.condarc',\n",
       " '.gradle',\n",
       " '.Icecream Screen Recorder',\n",
       " '.IdeaIC2019.2',\n",
       " '.invision-studio',\n",
       " '.ipynb_checkpoints',\n",
       " '.ipython',\n",
       " '.jupyter',\n",
       " '.matplotlib',\n",
       " '3D Objects',\n",
       " 'Anaconda3',\n",
       " 'AndroidStudioProjects',\n",
       " 'AppData',\n",
       " 'Application Data',\n",
       " 'classdb.db',\n",
       " 'Contacts',\n",
       " 'Cookies',\n",
       " 'Desktop',\n",
       " 'Documents',\n",
       " 'Downloads',\n",
       " 'Favorites',\n",
       " 'IdeaProjects',\n",
       " 'IntelGraphicsProfiles',\n",
       " 'Links',\n",
       " 'Local Settings',\n",
       " 'MicrosoftEdgeBackups',\n",
       " 'Music',\n",
       " 'My Documents',\n",
       " 'NetHood',\n",
       " 'NTUSER.DAT',\n",
       " 'ntuser.dat.LOG1',\n",
       " 'ntuser.dat.LOG2',\n",
       " 'NTUSER.DAT{3b049642-a16b-11e9-9c85-f2acdc037aba}.TM.blf',\n",
       " 'NTUSER.DAT{3b049642-a16b-11e9-9c85-f2acdc037aba}.TMContainer00000000000000000001.regtrans-ms',\n",
       " 'NTUSER.DAT{3b049642-a16b-11e9-9c85-f2acdc037aba}.TMContainer00000000000000000002.regtrans-ms',\n",
       " 'ntuser.ini',\n",
       " 'OneDrive',\n",
       " 'Pictures',\n",
       " 'PrintHood',\n",
       " 'Recent',\n",
       " 'Saved Games',\n",
       " 'Searches',\n",
       " 'SendTo',\n",
       " 'Start Menu',\n",
       " 'Templates',\n",
       " 'Untitled.ipynb',\n",
       " 'Untitled1.ipynb',\n",
       " 'Videos']"
      ]
     },
     "execution_count": 27,
     "metadata": {},
     "output_type": "execute_result"
    }
   ],
   "source": [
    "os.listdir(\"C:\")"
   ]
  },
  {
   "cell_type": "code",
   "execution_count": null,
   "metadata": {},
   "outputs": [],
   "source": []
  }
 ],
 "metadata": {
  "kernelspec": {
   "display_name": "Python 3",
   "language": "python",
   "name": "python3"
  },
  "language_info": {
   "codemirror_mode": {
    "name": "ipython",
    "version": 3
   },
   "file_extension": ".py",
   "mimetype": "text/x-python",
   "name": "python",
   "nbconvert_exporter": "python",
   "pygments_lexer": "ipython3",
   "version": "3.7.3"
  }
 },
 "nbformat": 4,
 "nbformat_minor": 2
}
