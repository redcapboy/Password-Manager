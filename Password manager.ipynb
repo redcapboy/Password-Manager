{
 "cells": [
  {
   "cell_type": "code",
   "execution_count": 1,
   "metadata": {},
   "outputs": [
    {
     "data": {
      "text/html": [
       "<style type=\"text/css\">\n",
       "table.dataframe td, table.dataframe th {\n",
       "    border: 1px  black solid !important;\n",
       "  color: black !important;\n",
       "}\n",
       "</style>\n"
      ],
      "text/plain": [
       "<IPython.core.display.HTML object>"
      ]
     },
     "metadata": {},
     "output_type": "display_data"
    }
   ],
   "source": [
    "%%HTML\n",
    "<style type=\"text/css\">\n",
    "table.dataframe td, table.dataframe th {\n",
    "    border: 1px  black solid !important;\n",
    "  color: black !important;\n",
    "}\n",
    "</style>"
   ]
  },
  {
   "cell_type": "code",
   "execution_count": 2,
   "metadata": {},
   "outputs": [],
   "source": [
    "import sqlite3\n",
    "import pandas as pd"
   ]
  },
  {
   "cell_type": "code",
   "execution_count": 3,
   "metadata": {},
   "outputs": [],
   "source": [
    "\n",
    "class Password_Manager:\n",
    "    def __init__(self, db_name, table_name):\n",
    "        self.db_name = db_name\n",
    "        self.table_name = table_name\n",
    "        connection = sqlite3.connect(db_name+'.db')\n",
    "        cursor = connection.cursor()\n",
    "        try:\n",
    "            cursor.execute('Create Table ' + table_name + ' (website Varchar(20) not null, id1 Varchar(20) not null, passw Varchar(20) not null, PRIMARY KEY (website, id1));')\n",
    "        except:\n",
    "            print(\"Table Exists, continue adding data\")\n",
    "            #Password_Manager.show_table(self)\n",
    "            #cursor.execute('delete from '+ table_name)\n",
    "            #cursor.execute('drop table '+ table_name)\n",
    "            #cursor.execute('Create Table ' + table_name + ' (website Varchar(20) not null, id1 Varchar(20) not null, passw Varchar(20) not null, PRIMARY KEY (website, id1));')\n",
    "        connection.commit()\n",
    "        connection.close()\n",
    "        print(\"Database \"+db_name+\" having table \"+ table_name +\" Created!!\")\n",
    "    def add_data(self, website, id1, passw):\n",
    "        connection = sqlite3.connect(self.db_name+'.db')\n",
    "        cursor = connection.cursor()\n",
    "        cursor.execute('Insert into '+self.table_name+' (website, id1, passw) Values(\"'+website+'\",\"'+id1+'\",\"'+passw+'\")')\n",
    "        connection.commit()\n",
    "        connection.close()\n",
    "        Password_Manager.show_table(self)\n",
    "    def show_table(self):\n",
    "        connection = sqlite3.connect(self.db_name+'.db')\n",
    "        cursor = connection.cursor()\n",
    "        cursor.execute('Select * From '+self.table_name)\n",
    "        entire_table = cursor.fetchall()\n",
    "        l = []\n",
    "        for row in entire_table:\n",
    "            print(row[0],\"!\",row[1],\"!\",row[2],\"!\")\n",
    "            l.append(list(row))\n",
    "        print(l)\n",
    "        df = pd.DataFrame(l, columns = ['website', 'id1', 'passw'])\n",
    "        connection.close()\n",
    "        print(df)\n",
    "    def show_pass(self, website, id1):\n",
    "        connection = sqlite3.connect(self.db_name+'.db')\n",
    "        cursor = connection.cursor()\n",
    "        cursor.execute('Select passw From ' + self.table_name + ' where website =\"' + website + '\" and id1 = \"' +id1+ '\";')\n",
    "        p = cursor.fetchall()\n",
    "        print(p)\n",
    "        connection.close()\n",
    "    def modify_passw(self, website, id1, passw):\n",
    "        connection = sqlite3.connect(self.db_name+'.db')\n",
    "        cursor = connection.cursor()\n",
    "        cursor.execute('Update '+self.table_name+' set passw = \"'+passw+'\" where website = \"'+website+'\" and id1 = \"'+id1+'\";')\n",
    "        connection.commit()\n",
    "        connection.close()\n",
    "        Password_Manager.show_table(self)\n",
    "    def delete_pass(self, website):\n",
    "        connection = sqlite3.connect(self.db_name+'.db')\n",
    "        cursor = connection.cursor()\n",
    "        cursor.execute('Delete from ' + self.table_name + ' where website =\"' + website + '\";')\n",
    "        connection.commit()\n",
    "        connection.close()\n",
    "        Password_Manager.show_table(self)\n",
    "    def delete_all(self):\n",
    "        connection = sqlite3.connect(self.db_name+'.db')\n",
    "        cursor = connection.cursor()\n",
    "        cursor.execute('delete from '+ self.table_name)\n",
    "        cursor.execute('drop table '+ self.table_name)\n",
    "        connection.commit()\n",
    "        connection.close()\n",
    "        print(\"Table deletion successful\")"
   ]
  },
  {
   "cell_type": "code",
   "execution_count": null,
   "metadata": {},
   "outputs": [],
   "source": [
    "from IPython.display import clear_output\n",
    "def run_password_manager():\n",
    "    db_name = input(\"Enter db name : \")\n",
    "    table_name = input(\"Enter table name : \")\n",
    "    p = Password_Manager(db_name,table_name)\n",
    "    while(1==1):\n",
    "        clear_output()\n",
    "        print(\"Welcome to password manager\\n1)Add \\n2)Show pass \\n3)Show all \\n4)Modify \\n5)Delete\")\n",
    "        n = int(input())\n",
    "        if(n == 1):\n",
    "            a = input(\"Enter website name : \")\n",
    "            b = input(\"Enter user id : \")\n",
    "            c = input(\"Enter password : \")\n",
    "            p.add_data(a,b,c)\n",
    "            \n",
    "            clear_output()\n",
    "            print(\"Do you wish to do something else?(y/n)\")\n",
    "            huh = input(\"y/n\")\n",
    "            if(huh == \"y\"):\n",
    "                continue\n",
    "            else:\n",
    "                break\n",
    "        elif (n==2):\n",
    "            a = input(\"Enter website name : \")\n",
    "            b = input(\"Enter user id : \") \n",
    "            p.show_pass(a,b)\n",
    "            #clear_output()\n",
    "            print(\"Do you wish to do something else?(y/n)\")\n",
    "            huh = input(\"y/n\")\n",
    "        elif (n==3):\n",
    "            p.show_table()\n",
    "            print(\"Do you wish to do something else?(y/n)\")\n",
    "            huh = input(\"y/n\")\n",
    "        elif (n==4):\n",
    "            a = input(\"Enter website name : \")\n",
    "            b = input(\"Enter user id : \")\n",
    "            c = input(\"Enter password : \")\n",
    "            p.modify_passw(a,b,c)\n",
    "            clear_output()\n",
    "            print(\"Do you wish to do something else?(y/n)\")\n",
    "            huh = input(\"y/n\")\n",
    "        elif (n==5):\n",
    "            a = input(\"Enter website name : \")\n",
    "            p.delete_pass(a)\n",
    "            clear_output()\n",
    "            print(\"Do you wish to do something else?(y/n)\")\n",
    "            huh = input(\"y/n\")\n",
    "        elif (n==6):\n",
    "            p.delete_all()\n",
    "            clear_output()\n",
    "            print(\"Do you wish to do something else?(y/n)\")\n",
    "            huh = input(\"y/n\") \n",
    "                "
   ]
  },
  {
   "cell_type": "code",
   "execution_count": null,
   "metadata": {},
   "outputs": [
    {
     "name": "stdout",
     "output_type": "stream",
     "text": [
      "Welcome to password manager\n",
      "1)Add \n",
      "2)Show pass \n",
      "3)Show all \n",
      "4)Modify \n",
      "5)Delete\n"
     ]
    }
   ],
   "source": [
    "run_password_manager()\n"
   ]
  },
  {
   "cell_type": "markdown",
   "metadata": {},
   "source": [
    "run_password_manager()"
   ]
  },
  {
   "cell_type": "code",
   "execution_count": null,
   "metadata": {},
   "outputs": [],
   "source": [
    "%%time\n",
    "\n",
    "p = Password_Manager(\"classdb\",\"classtable\")"
   ]
  },
  {
   "cell_type": "code",
   "execution_count": null,
   "metadata": {},
   "outputs": [],
   "source": [
    "%%time\n",
    "p.add_data(\"61\",\"102\",\"3\")"
   ]
  },
  {
   "cell_type": "code",
   "execution_count": null,
   "metadata": {},
   "outputs": [],
   "source": [
    "p.show_table()\n"
   ]
  },
  {
   "cell_type": "code",
   "execution_count": null,
   "metadata": {},
   "outputs": [],
   "source": [
    "p.modify_passw(\"6\",\"9\",\"2\")"
   ]
  },
  {
   "cell_type": "code",
   "execution_count": null,
   "metadata": {},
   "outputs": [],
   "source": [
    "p.delete_pass(\"\")"
   ]
  },
  {
   "cell_type": "code",
   "execution_count": null,
   "metadata": {},
   "outputs": [],
   "source": [
    "import pandas as pd"
   ]
  },
  {
   "cell_type": "code",
   "execution_count": null,
   "metadata": {},
   "outputs": [],
   "source": [
    "import os"
   ]
  },
  {
   "cell_type": "code",
   "execution_count": null,
   "metadata": {},
   "outputs": [],
   "source": [
    "os.listdir(\"C:\")"
   ]
  },
  {
   "cell_type": "code",
   "execution_count": null,
   "metadata": {},
   "outputs": [],
   "source": []
  },
  {
   "cell_type": "code",
   "execution_count": null,
   "metadata": {},
   "outputs": [],
   "source": [
    "\n",
    "p = Password_Manager(\"classdb\",\"classtable\")"
   ]
  },
  {
   "cell_type": "code",
   "execution_count": null,
   "metadata": {},
   "outputs": [],
   "source": [
    "p.add_data(\"1\",\"1\",\"!\")"
   ]
  },
  {
   "cell_type": "code",
   "execution_count": null,
   "metadata": {},
   "outputs": [],
   "source": []
  }
 ],
 "metadata": {
  "kernelspec": {
   "display_name": "Python 3",
   "language": "python",
   "name": "python3"
  },
  "language_info": {
   "codemirror_mode": {
    "name": "ipython",
    "version": 3
   },
   "file_extension": ".py",
   "mimetype": "text/x-python",
   "name": "python",
   "nbconvert_exporter": "python",
   "pygments_lexer": "ipython3",
   "version": "3.7.3"
  }
 },
 "nbformat": 4,
 "nbformat_minor": 2
}
